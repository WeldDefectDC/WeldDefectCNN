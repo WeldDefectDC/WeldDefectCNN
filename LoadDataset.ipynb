{
  "nbformat": 4,
  "nbformat_minor": 0,
  "metadata": {
    "colab": {
      "provenance": []
    },
    "kernelspec": {
      "name": "python3",
      "display_name": "Python 3"
    },
    "language_info": {
      "name": "python"
    }
  },
  "cells": [
    {
      "cell_type": "code",
      "execution_count": 23,
      "metadata": {
        "id": "Cwf3cJSZ0Ibm"
      },
      "outputs": [],
      "source": [
        "from google.colab import drive\n",
        "import os\n",
        "import random\n",
        "\n"
      ]
    },
    {
      "cell_type": "code",
      "source": [
        "drive.mount('/content/drive')\n"
      ],
      "metadata": {
        "colab": {
          "base_uri": "https://localhost:8080/"
        },
        "id": "ot7eHfWbVnaA",
        "outputId": "0319afb3-10ab-4fbe-bef9-6f1e716df718"
      },
      "execution_count": 24,
      "outputs": [
        {
          "output_type": "stream",
          "name": "stdout",
          "text": [
            "Drive already mounted at /content/drive; to attempt to forcibly remount, call drive.mount(\"/content/drive\", force_remount=True).\n"
          ]
        }
      ]
    },
    {
      "cell_type": "code",
      "source": [
        "train_folder = '/content/drive/MyDrive/Welding_Dataset/training'\n",
        "files = os.listdir(train_folder)\n",
        "print(files)"
      ],
      "metadata": {
        "colab": {
          "base_uri": "https://localhost:8080/"
        },
        "id": "x4-QLj5dXYEt",
        "outputId": "b8b913d8-b6fc-4ba6-e4cc-39bd5cb375ee"
      },
      "execution_count": 25,
      "outputs": [
        {
          "output_type": "stream",
          "name": "stdout",
          "text": [
            "['Difetto2', 'NoDifetto', 'Difetto4', 'Difetto1']\n"
          ]
        }
      ]
    },
    {
      "cell_type": "code",
      "source": [
        "def stratified_sampling(root_dir, num_samples=500, seed=None):\n",
        "    \"\"\"\n",
        "    Perform stratified sampling of files from subfolders of the root directory.\n",
        "\n",
        "    Args:\n",
        "        root_dir (str): The root directory containing subfolders.\n",
        "        num_samples_per_class (int): The number of samples to take from each subfolder.\n",
        "        seed (int): Random seed for reproducibility.\n",
        "\n",
        "    Returns:\n",
        "        A dictionary containing image URLs as keys and their corresponding class names as values.\n",
        "    \"\"\"\n",
        "    if seed is not None:\n",
        "        random.seed(seed)\n",
        "\n",
        "    sampled_data = {}\n",
        "\n",
        "    for class_name in os.listdir(root_dir):\n",
        "        class_dir = os.path.join(root_dir, class_name)\n",
        "\n",
        "        if os.path.isdir(class_dir):\n",
        "            file_list = os.listdir(class_dir)\n",
        "\n",
        "            if len(file_list) > num_samples:\n",
        "                random.shuffle(file_list)\n",
        "                sampled_files = random.sample(file_list, num_samples)\n",
        "            else:\n",
        "                sampled_files = file_list\n",
        "\n",
        "            class_label = class_name\n",
        "\n",
        "            for file_name in sampled_files:\n",
        "                file_url = os.path.join(class_dir, file_name)\n",
        "                sampled_data[file_url] = class_label\n",
        "\n",
        "    return sampled_data\n",
        "\n",
        "\n",
        "# Usage\n",
        "sampled_data = stratified_sampling(train_folder, num_samples=500, seed=42)\n",
        "\n",
        "count_per_class = {}\n",
        "\n",
        "# Count the number of keys per value\n",
        "for class_label in sampled_data.values():\n",
        "    count_per_class[class_label] = count_per_class.get(class_label, 0) + 1\n",
        "\n",
        "# Print the counts\n",
        "for class_label, count in count_per_class.items():\n",
        "    print(f'{class_label}: {count} keys')\n"
      ],
      "metadata": {
        "colab": {
          "base_uri": "https://localhost:8080/"
        },
        "id": "I_IMsHY8Y7Ec",
        "outputId": "949f8772-89bc-4155-c331-02eeecc7a573"
      },
      "execution_count": 34,
      "outputs": [
        {
          "output_type": "stream",
          "name": "stdout",
          "text": [
            "Difetto2: 500 keys\n",
            "NoDifetto: 500 keys\n",
            "Difetto4: 500 keys\n",
            "Difetto1: 500 keys\n"
          ]
        }
      ]
    }
  ]
}
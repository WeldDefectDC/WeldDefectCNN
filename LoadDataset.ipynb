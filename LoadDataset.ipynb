{
  "nbformat": 4,
  "nbformat_minor": 0,
  "metadata": {
    "colab": {
      "provenance": []
    },
    "kernelspec": {
      "name": "python3",
      "display_name": "Python 3"
    },
    "language_info": {
      "name": "python"
    }
  },
  "cells": [
    {
      "cell_type": "code",
      "execution_count": 46,
      "metadata": {
        "id": "Cwf3cJSZ0Ibm"
      },
      "outputs": [],
      "source": [
        "from google.colab import drive\n",
        "import os\n",
        "import random\n",
        "import pandas as pd\n",
        "import cv2 as cv\n",
        "from google.colab.patches import cv2_imshow"
      ]
    },
    {
      "cell_type": "code",
      "source": [
        "drive.mount('/content/drive')\n"
      ],
      "metadata": {
        "colab": {
          "base_uri": "https://localhost:8080/"
        },
        "id": "ot7eHfWbVnaA",
        "outputId": "1325afdd-2a11-48ff-df46-14eb2df9f225"
      },
      "execution_count": 5,
      "outputs": [
        {
          "output_type": "stream",
          "name": "stdout",
          "text": [
            "Drive already mounted at /content/drive; to attempt to forcibly remount, call drive.mount(\"/content/drive\", force_remount=True).\n"
          ]
        }
      ]
    },
    {
      "cell_type": "code",
      "source": [
        "train_folder = '/content/drive/MyDrive/Welding_Dataset/training'\n",
        "files = os.listdir(train_folder)\n",
        "print(files)"
      ],
      "metadata": {
        "colab": {
          "base_uri": "https://localhost:8080/"
        },
        "id": "x4-QLj5dXYEt",
        "outputId": "7c726d62-f33b-4dcd-b5fa-30222a3ebede"
      },
      "execution_count": 31,
      "outputs": [
        {
          "output_type": "stream",
          "name": "stdout",
          "text": [
            "['NoDefect', 'Crack', 'Porosity', 'LackOfPenetration']\n"
          ]
        }
      ]
    },
    {
      "cell_type": "code",
      "source": [
        "def stratified_sampling(root_dir, num_samples=500, seed=None):\n",
        "    \"\"\"\n",
        "    Perform stratified sampling of files from subfolders of the root directory.\n",
        "\n",
        "    Args:\n",
        "        root_dir (str): The root directory containing subfolders.\n",
        "        num_samples_per_class (int): The number of samples to take from each subfolder.\n",
        "        seed (int): Random seed for reproducibility.\n",
        "\n",
        "    Returns:\n",
        "        A dictionary containing image URLs as keys and their corresponding class names as values.\n",
        "    \"\"\"\n",
        "    if seed is not None:\n",
        "        random.seed(seed)\n",
        "\n",
        "    sampled_data = {}\n",
        "\n",
        "    for class_name in os.listdir(root_dir):\n",
        "        class_dir = os.path.join(root_dir, class_name)\n",
        "\n",
        "        if os.path.isdir(class_dir):\n",
        "            file_list = os.listdir(class_dir)\n",
        "\n",
        "            if len(file_list) > num_samples:\n",
        "                random.shuffle(file_list)\n",
        "                sampled_files = random.sample(file_list, num_samples)\n",
        "            else:\n",
        "                sampled_files = file_list\n",
        "\n",
        "            class_label = class_name\n",
        "\n",
        "            for file_name in sampled_files:\n",
        "                file_url = os.path.join(class_dir, file_name)\n",
        "                sampled_data[file_url] = class_label\n",
        "\n",
        "    return sampled_data\n",
        "\n",
        "\n",
        "# Usage\n",
        "sampled_data = stratified_sampling(train_folder, num_samples=500, seed=42)\n",
        "\n",
        "count_per_class = {}\n",
        "\n",
        "# Count the number of keys per value\n",
        "for class_label in sampled_data.values():\n",
        "    count_per_class[class_label] = count_per_class.get(class_label, 0) + 1\n",
        "\n",
        "# Print the counts\n",
        "for class_label, count in count_per_class.items():\n",
        "    print(f'{class_label}: {count} keys')\n"
      ],
      "metadata": {
        "id": "I_IMsHY8Y7Ec",
        "colab": {
          "base_uri": "https://localhost:8080/"
        },
        "outputId": "6611c9da-5a09-4566-ada8-8f8c12c3e0f5"
      },
      "execution_count": 32,
      "outputs": [
        {
          "output_type": "stream",
          "name": "stdout",
          "text": [
            "NoDefect: 500 keys\n",
            "Crack: 500 keys\n",
            "Porosity: 500 keys\n",
            "LackOfPenetration: 500 keys\n"
          ]
        }
      ]
    },
    {
      "cell_type": "code",
      "source": [
        "def load_into_dataframe(data_dict):\n",
        "  df = pd.DataFrame(list(data_dict.items()), columns=['ID', 'Label'])\n",
        "  return df\n",
        "\n",
        "dataframe = load_into_dataframe(sampled_data)"
      ],
      "metadata": {
        "id": "D5NwwgK9EWh9"
      },
      "execution_count": 41,
      "outputs": []
    },
    {
      "cell_type": "code",
      "source": [
        "def load_image(url):\n",
        "  img = cv.imread(url)\n",
        "  cv2_imshow(img)\n",
        "  cv.waitKey(0)\n",
        "  cv.destroyAllWindows()\n",
        "  return img\n",
        "\n",
        "img = load_image(dataframe['ID'][0])"
      ],
      "metadata": {
        "id": "dKKsGY3OMMUK"
      },
      "execution_count": null,
      "outputs": []
    }
  ]
}